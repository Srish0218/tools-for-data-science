{
 "cells": [
  {
   "cell_type": "code",
   "execution_count": null,
   "id": "8bc528e3",
   "metadata": {},
   "outputs": [],
   "source": [
    "Exercise 2 - Create a markdown cell with the title of the notebook. "
   ]
  },
  {
   "cell_type": "markdown",
   "id": "d2824b21",
   "metadata": {},
   "source": [
    "# ToolsForDataScience"
   ]
  },
  {
   "cell_type": "code",
   "execution_count": null,
   "id": "6b66ecb8",
   "metadata": {},
   "outputs": [],
   "source": [
    "Exercise 3 - Create a markdown cell for an introduction. (1 pt)\n"
   ]
  },
  {
   "cell_type": "markdown",
   "id": "2d1e8b3b",
   "metadata": {},
   "source": [
    "This course introduced you to multiple data science tools, and in this final project, you will use Jupyterlite Notebook, one of the easiest tools to share publicly. \n",
    "\n",
    "Leveraging Jupyterlite Notebook on Skills Network labs, you will create your Jupyterlite Notebook (in English) and share it via a public GitHub link.\n",
    "\n",
    "Review criteria\n",
    "less \n",
    "There are a total of 25 points possible for this final project.   \n",
    "\n",
    "Your grade will be based on the following Exercises:\n",
    "\n",
    "Exercise 2 - Create a markdown cell with the title of the notebook. (1 pt)\n",
    "\n",
    "Exercise 3 - Create a markdown cell for an introduction. (1 pt)\n",
    "\n",
    "Exercise 4 - Create a markdown cell to list data science languages. (3 pts)\n",
    "\n",
    "Exercise 5 - Create a markdown cell to list data science libraries. (3 pts)\n",
    "\n",
    "Exercise 6 - Create a markdown cell with a table of Data Science tools. (3 pts)\n",
    "\n",
    "Exercise 7 - Create a markdown cell introducing arithmetic expression examples. (1 pt)\n",
    "\n",
    "Exercise 8 - Create a code cell to multiply and add numbers. (2 pts)\n",
    "\n",
    "Exercise 9 - Create a code cell to convert minutes to hours. (2 pts)\n",
    "\n",
    "Exercise 10 -Insert a markdown cell to list Objectives. (3 pts)\n",
    "\n",
    "Exercise 11 - Create a markdown cell to indicate the Author’s name. (2 pts)\n",
    "\n",
    "Exercise 12 - Share your notebook through GitHub (3 pts)\n",
    "\n",
    "Exercise 13 - Take a screenshot of the first page of the notebook. (1 pt)"
   ]
  },
  {
   "cell_type": "code",
   "execution_count": null,
   "id": "5dace1c0",
   "metadata": {},
   "outputs": [],
   "source": [
    "Exercise 4 - Create a markdown cell to list data science languages. (3 pts)"
   ]
  },
  {
   "cell_type": "markdown",
   "id": "ce935ed8",
   "metadata": {},
   "source": [
    "Data Science Languages\n",
    "\n",
    "Python\n",
    "\n",
    "R\n",
    "\n",
    "Julia\n",
    "\n",
    "SQL\n",
    "\n",
    "Scala\n",
    "\n",
    "MATLAB\n",
    "\n",
    "SAS\n",
    "\n",
    "Java\n",
    "C++\n",
    "\n",
    "These languages are commonly used in the field of data science for tasks such as data analysis, machine learning, statistical modeling, and data visualization. Each language has its own strengths and features, and the choice of language often depends on the specific requirements and preferences of the data scientist or data analyst.\n"
   ]
  },
  {
   "cell_type": "code",
   "execution_count": null,
   "id": "bfe90054",
   "metadata": {},
   "outputs": [],
   "source": [
    "Exercise 5 - Create a markdown cell to list data science libraries. (3 pts)"
   ]
  },
  {
   "cell_type": "markdown",
   "id": "cc74391d",
   "metadata": {},
   "source": [
    "Data Science Libraries\n",
    "\n",
    "NumPy: A fundamental package for scientific computing with Python, providing powerful numerical operations and array manipulation capabilities.\n",
    "\n",
    "Pandas: A library for data manipulation and analysis. It provides high-performance, easy-to-use data structures and data analysis tools.\n",
    "\n",
    "Matplotlib: A plotting library for creating static, animated, and interactive visualizations in Python.\n",
    "\n",
    "Scikit-learn: A machine learning library that provides a wide range of algorithms for classification, regression, clustering, and dimensionality reduction.\n",
    "\n",
    "TensorFlow: An open-source library for machine learning and deep learning, known for its flexibility and scalability.\n",
    "\n",
    "PyTorch: A deep learning framework that enables dynamic computational graphs and offers a seamless transition between training on CPUs and GPUs.\n",
    "\n",
    "Keras: A high-level neural networks API that runs on top of TensorFlow, providing a user-friendly interface for building and training deep learning models.\n",
    "\n",
    "SciPy: A library for scientific and technical computing in Python, offering modules for optimization, integration, interpolation, linear algebra, and more.\n",
    "\n",
    "Seaborn: A data visualization library based on Matplotlib, providing a high-level interface for creating informative and attractive statistical graphics.\n",
    "\n",
    "NLTK: The Natural Language Toolkit, which provides tools and resources for natural language processing tasks such as tokenization, stemming, tagging, and parsing.\n",
    "\n",
    "These libraries are widely used in the field of data science to perform various tasks, including data manipulation, visualization, machine learning, deep learning, and natural language processing. Each library offers a range of functions and tools to streamline and enhance the data science workflow."
   ]
  },
  {
   "cell_type": "code",
   "execution_count": null,
   "id": "8edcae07",
   "metadata": {},
   "outputs": [],
   "source": [
    "Exercise 6 - Create a markdown cell with a table of Data Science tools. (3 pts)"
   ]
  },
  {
   "cell_type": "markdown",
   "id": "f6e1d67c",
   "metadata": {},
   "source": [
    "| Tool                 | Description                                                |\n",
    "|----------------------|------------------------------------------------------------|\n",
    "| Jupyter Notebook     | Interactive coding environment for data exploration         |\n",
    "| Anaconda             | Distribution of Python and R packages for data science      |\n",
    "| Apache Spark         | Distributed computing framework for big data processing     |\n",
    "| Tableau              | Data visualization and business intelligence tool           |\n",
    "| Apache Hadoop        | Distributed storage and processing framework for big data   |\n",
    "| Git                  | Version control system for tracking code changes            |\n",
    "| Docker               | Containerization platform for creating reproducible environments |\n",
    "| TensorFlow           | Deep learning framework for building and training models    |\n",
    "| PyCharm              | Integrated development environment (IDE) for Python         |\n",
    "| RapidMiner           | Data mining and machine learning tool                       |\n"
   ]
  },
  {
   "cell_type": "code",
   "execution_count": null,
   "id": "947e066d",
   "metadata": {},
   "outputs": [],
   "source": [
    "Exercise 7 - Create a markdown cell introducing arithmetic expression examples. (1 pt)"
   ]
  },
  {
   "cell_type": "markdown",
   "id": "6d3c91bd",
   "metadata": {},
   "source": [
    "\n",
    "Arithmetic expressions are mathematical expressions that involve arithmetic operations such as addition, subtraction, multiplication, and division. They are commonly used in programming and mathematical calculations. Here are some examples of arithmetic expressions:\n",
    "\n",
    "1. Addition:\n",
    "   - `3 + 5`: Evaluates to 8\n",
    "\n",
    "2. Subtraction:\n",
    "   - `10 - 4`: Evaluates to 6\n",
    "\n",
    "3. Multiplication:\n",
    "   - `6 * 4`: Evaluates to 24\n",
    "   - `3.5 * 2.5`: Evaluates to 8.75\n",
    "\n",
    "4. Division:\n",
    "   - `15 / 3`: Evaluates to 5\n",
    "   - `10.5 / 2`: Evaluates to 5.25\n",
    "    \n",
    "These examples demonstrate basic arithmetic operations using both integers and floating-point numbers. Arithmetic expressions can also include parentheses to control the order of operations and complex mathematical functions for more advanced calculations. Understanding and working with arithmetic expressions is essential in various fields, including mathematics, computer science, and data analysis.\n"
   ]
  },
  {
   "cell_type": "code",
   "execution_count": 8,
   "id": "8f4a5c5c",
   "metadata": {},
   "outputs": [
    {
     "name": "stdout",
     "output_type": "stream",
     "text": [
      "5+4: \n"
     ]
    },
    {
     "data": {
      "text/plain": [
       "9"
      ]
     },
     "execution_count": 8,
     "metadata": {},
     "output_type": "execute_result"
    }
   ],
   "source": [
    "# Arithmetic operations\n",
    "print(\"5+4: \")\n",
    "code = compile(\"5 + 4\", \"<string>\", \"eval\")\n",
    "eval(code)\n",
    "\n"
   ]
  },
  {
   "cell_type": "code",
   "execution_count": 9,
   "id": "fb0562eb",
   "metadata": {},
   "outputs": [
    {
     "name": "stdout",
     "output_type": "stream",
     "text": [
      "volumn of sphere\n"
     ]
    },
    {
     "data": {
      "text/plain": [
       "65449.84694978735"
      ]
     },
     "execution_count": 9,
     "metadata": {},
     "output_type": "execute_result"
    }
   ],
   "source": [
    "import math\n",
    "# Volume of a sphere\n",
    "print(\"volumn of sphere\")\n",
    "code2 = compile(\"\\n4 / 3 * math.pi * math.pow(25, 3)\", \"<string>\", \"eval\")\n",
    "eval(code2)"
   ]
  },
  {
   "cell_type": "markdown",
   "id": "86b9caed",
   "metadata": {},
   "source": [
    "Exercise 8 - Create a code cell to multiply and add numbers.(2 pts)\n",
    "\n",
    "This a simple arithmetic expression to mutiply then add integers\n"
   ]
  },
  {
   "cell_type": "code",
   "execution_count": 12,
   "id": "6e4fe107",
   "metadata": {},
   "outputs": [
    {
     "data": {
      "text/plain": [
       "17"
      ]
     },
     "execution_count": 12,
     "metadata": {},
     "output_type": "execute_result"
    }
   ],
   "source": [
    "(3*4)+5\n"
   ]
  },
  {
   "cell_type": "markdown",
   "id": "607b8fc0",
   "metadata": {},
   "source": [
    "Exercise 9 - Create a code cell to convert minutes to hours. (2 pts)\n",
    "\n",
    "This will convert 200 minutes to hours by diving by 60"
   ]
  },
  {
   "cell_type": "code",
   "execution_count": 14,
   "id": "14b515e5",
   "metadata": {},
   "outputs": [
    {
     "name": "stdout",
     "output_type": "stream",
     "text": [
      "3.3333333333333335\n"
     ]
    }
   ],
   "source": [
    "min=200\n",
    "\n",
    "hours=200/60\n",
    "print(hours)"
   ]
  },
  {
   "cell_type": "markdown",
   "id": "91a18d6f",
   "metadata": {},
   "source": [
    "# Exercise 10 -Insert a markdown cell to list Objectives.\n",
    "\n",
    "Below the introduction cell created in Exercise 3, insert a new markdown cell to list the objectives that this notebook covered (i.e. some of the key takeaways from the course). In this new cell start with an introductory line titled: Objectives: in bold font. Then using an unordered list (bullets) indicate 3 to 5 items covered in this notebook, such as List popular languages for Data Science."
   ]
  },
  {
   "cell_type": "markdown",
   "id": "5b323bb4",
   "metadata": {},
   "source": [
    "# Exercise 11 - Create a markdown cell to indicate the Author’s name.\n",
    "\n",
    "# Author:\n",
    "Srishti Jaitly"
   ]
  },
  {
   "cell_type": "code",
   "execution_count": null,
   "id": "8b40e24d",
   "metadata": {},
   "outputs": [],
   "source": []
  }
 ],
 "metadata": {
  "kernelspec": {
   "display_name": "Python 3 (ipykernel)",
   "language": "python",
   "name": "python3"
  },
  "language_info": {
   "codemirror_mode": {
    "name": "ipython",
    "version": 3
   },
   "file_extension": ".py",
   "mimetype": "text/x-python",
   "name": "python",
   "nbconvert_exporter": "python",
   "pygments_lexer": "ipython3",
   "version": "3.10.9"
  }
 },
 "nbformat": 4,
 "nbformat_minor": 5
}
